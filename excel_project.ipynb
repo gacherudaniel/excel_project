{
 "cells": [
  {
   "cell_type": "code",
   "execution_count": 28,
   "id": "96fa23e8",
   "metadata": {},
   "outputs": [],
   "source": [
    "import pandas as pd\n",
    "from openpyxl import load_workbook\n",
    "from openpyxl.utils import get_column_letter\n",
    "from copy import copy\n",
    "from openpyxl.cell.cell import MergedCell"
   ]
  },
  {
   "cell_type": "code",
   "execution_count": 29,
   "id": "b269a9ab",
   "metadata": {},
   "outputs": [],
   "source": [
    "# === CONFIGURATION ===\n",
    "date_str = \"11th March\"\n",
    "target_date = pd.to_datetime(\"2024-03-11\")\n",
    "\n",
    "# === Load Source Data ===\n",
    "source_file = \"03 March  25 Gross Gen.xlsx\"\n",
    "summary_df = pd.read_excel(source_file, sheet_name=\"Summary\", header=None)\n"
   ]
  },
  {
   "cell_type": "code",
   "execution_count": 30,
   "id": "9b9c9279",
   "metadata": {},
   "outputs": [
    {
     "data": {
      "application/vnd.microsoft.datawrangler.viewer.v0+json": {
       "columns": [
        {
         "name": "index",
         "rawType": "int64",
         "type": "integer"
        },
        {
         "name": "0",
         "rawType": "object",
         "type": "unknown"
        },
        {
         "name": "1",
         "rawType": "object",
         "type": "unknown"
        },
        {
         "name": "2",
         "rawType": "object",
         "type": "unknown"
        },
        {
         "name": "3",
         "rawType": "object",
         "type": "unknown"
        },
        {
         "name": "4",
         "rawType": "object",
         "type": "unknown"
        },
        {
         "name": "5",
         "rawType": "object",
         "type": "unknown"
        },
        {
         "name": "6",
         "rawType": "object",
         "type": "unknown"
        },
        {
         "name": "7",
         "rawType": "object",
         "type": "unknown"
        },
        {
         "name": "8",
         "rawType": "object",
         "type": "unknown"
        },
        {
         "name": "9",
         "rawType": "object",
         "type": "unknown"
        },
        {
         "name": "10",
         "rawType": "object",
         "type": "unknown"
        }
       ],
       "conversionMethod": "pd.DataFrame",
       "ref": "5a7b4600-79ed-466c-9708-72716b0cd75d",
       "rows": [
        [
         "0",
         null,
         null,
         null,
         null,
         null,
         null,
         null,
         null,
         null,
         null,
         null
        ],
        [
         "1",
         null,
         null,
         "Thika power limited",
         null,
         null,
         null,
         null,
         "ISSUE DATE:   1-Mar-24",
         null,
         null,
         null
        ],
        [
         "2",
         null,
         null,
         null,
         null,
         null,
         null,
         null,
         "REV:                         0",
         null,
         null,
         null
        ],
        [
         "3",
         null,
         null,
         null,
         null,
         null,
         null,
         null,
         "DOC NO:           12",
         null,
         null,
         null
        ],
        [
         "4",
         "GROSS GENERATION SUMMARY ( MMU )",
         null,
         null,
         null,
         null,
         null,
         null,
         null,
         null,
         null,
         null
        ]
       ],
       "shape": {
        "columns": 11,
        "rows": 5
       }
      },
      "text/html": [
       "<div>\n",
       "<style scoped>\n",
       "    .dataframe tbody tr th:only-of-type {\n",
       "        vertical-align: middle;\n",
       "    }\n",
       "\n",
       "    .dataframe tbody tr th {\n",
       "        vertical-align: top;\n",
       "    }\n",
       "\n",
       "    .dataframe thead th {\n",
       "        text-align: right;\n",
       "    }\n",
       "</style>\n",
       "<table border=\"1\" class=\"dataframe\">\n",
       "  <thead>\n",
       "    <tr style=\"text-align: right;\">\n",
       "      <th></th>\n",
       "      <th>0</th>\n",
       "      <th>1</th>\n",
       "      <th>2</th>\n",
       "      <th>3</th>\n",
       "      <th>4</th>\n",
       "      <th>5</th>\n",
       "      <th>6</th>\n",
       "      <th>7</th>\n",
       "      <th>8</th>\n",
       "      <th>9</th>\n",
       "      <th>10</th>\n",
       "    </tr>\n",
       "  </thead>\n",
       "  <tbody>\n",
       "    <tr>\n",
       "      <th>0</th>\n",
       "      <td>NaN</td>\n",
       "      <td>NaN</td>\n",
       "      <td>NaN</td>\n",
       "      <td>NaN</td>\n",
       "      <td>NaN</td>\n",
       "      <td>NaN</td>\n",
       "      <td>NaN</td>\n",
       "      <td>NaN</td>\n",
       "      <td>NaN</td>\n",
       "      <td>NaN</td>\n",
       "      <td>NaN</td>\n",
       "    </tr>\n",
       "    <tr>\n",
       "      <th>1</th>\n",
       "      <td>NaN</td>\n",
       "      <td>NaN</td>\n",
       "      <td>Thika power limited</td>\n",
       "      <td>NaN</td>\n",
       "      <td>NaN</td>\n",
       "      <td>NaN</td>\n",
       "      <td>NaN</td>\n",
       "      <td>ISSUE DATE:   1-Mar-24</td>\n",
       "      <td>NaN</td>\n",
       "      <td>NaN</td>\n",
       "      <td>NaN</td>\n",
       "    </tr>\n",
       "    <tr>\n",
       "      <th>2</th>\n",
       "      <td>NaN</td>\n",
       "      <td>NaN</td>\n",
       "      <td>NaN</td>\n",
       "      <td>NaN</td>\n",
       "      <td>NaN</td>\n",
       "      <td>NaN</td>\n",
       "      <td>NaN</td>\n",
       "      <td>REV:                         0</td>\n",
       "      <td>NaN</td>\n",
       "      <td>NaN</td>\n",
       "      <td>NaN</td>\n",
       "    </tr>\n",
       "    <tr>\n",
       "      <th>3</th>\n",
       "      <td>NaN</td>\n",
       "      <td>NaN</td>\n",
       "      <td>NaN</td>\n",
       "      <td>NaN</td>\n",
       "      <td>NaN</td>\n",
       "      <td>NaN</td>\n",
       "      <td>NaN</td>\n",
       "      <td>DOC NO:           12</td>\n",
       "      <td>NaN</td>\n",
       "      <td>NaN</td>\n",
       "      <td>NaN</td>\n",
       "    </tr>\n",
       "    <tr>\n",
       "      <th>4</th>\n",
       "      <td>GROSS GENERATION SUMMARY ( MMU )</td>\n",
       "      <td>NaN</td>\n",
       "      <td>NaN</td>\n",
       "      <td>NaN</td>\n",
       "      <td>NaN</td>\n",
       "      <td>NaN</td>\n",
       "      <td>NaN</td>\n",
       "      <td>NaN</td>\n",
       "      <td>NaN</td>\n",
       "      <td>NaN</td>\n",
       "      <td>NaN</td>\n",
       "    </tr>\n",
       "  </tbody>\n",
       "</table>\n",
       "</div>"
      ],
      "text/plain": [
       "                                 0    1                    2    3    4    5   \\\n",
       "0                               NaN  NaN                  NaN  NaN  NaN  NaN   \n",
       "1                               NaN  NaN  Thika power limited  NaN  NaN  NaN   \n",
       "2                               NaN  NaN                  NaN  NaN  NaN  NaN   \n",
       "3                               NaN  NaN                  NaN  NaN  NaN  NaN   \n",
       "4  GROSS GENERATION SUMMARY ( MMU )  NaN                  NaN  NaN  NaN  NaN   \n",
       "\n",
       "    6                               7    8    9    10  \n",
       "0  NaN                             NaN  NaN  NaN  NaN  \n",
       "1  NaN          ISSUE DATE:   1-Mar-24  NaN  NaN  NaN  \n",
       "2  NaN  REV:                         0  NaN  NaN  NaN  \n",
       "3  NaN            DOC NO:           12  NaN  NaN  NaN  \n",
       "4  NaN                             NaN  NaN  NaN  NaN  "
      ]
     },
     "execution_count": 30,
     "metadata": {},
     "output_type": "execute_result"
    }
   ],
   "source": [
    "summary_df.head()"
   ]
  },
  {
   "cell_type": "code",
   "execution_count": 31,
   "id": "ae82ec7a",
   "metadata": {},
   "outputs": [],
   "source": [
    "# Extract data section and clean it\n",
    "data_df = summary_df.iloc[9:].copy()\n",
    "\n",
    "# Step 2: Reset index and rename columns manually\n",
    "data_df = data_df.reset_index(drop=True)\n",
    "data_df.columns = [\"DATE\", \"DG SET .1\", \"DG SET .2\", \"DG SET .3\", \"DG SET .4\", \"DG SET .5\", \"STG\", \"DAILY TOTAL MWH\", \"PLANT GROSS\",\"ENG GROSS\",\"STG\"]"
   ]
  },
  {
   "cell_type": "code",
   "execution_count": 32,
   "id": "30801d01",
   "metadata": {},
   "outputs": [
    {
     "data": {
      "application/vnd.microsoft.datawrangler.viewer.v0+json": {
       "columns": [
        {
         "name": "index",
         "rawType": "int64",
         "type": "integer"
        },
        {
         "name": "DATE",
         "rawType": "object",
         "type": "unknown"
        },
        {
         "name": "DG SET .1",
         "rawType": "object",
         "type": "unknown"
        },
        {
         "name": "DG SET .2",
         "rawType": "object",
         "type": "unknown"
        },
        {
         "name": "DG SET .3",
         "rawType": "object",
         "type": "unknown"
        },
        {
         "name": "DG SET .4",
         "rawType": "object",
         "type": "unknown"
        },
        {
         "name": "DG SET .5",
         "rawType": "object",
         "type": "unknown"
        },
        {
         "name": "STG",
         "rawType": "object",
         "type": "unknown"
        },
        {
         "name": "DAILY TOTAL MWH",
         "rawType": "object",
         "type": "unknown"
        },
        {
         "name": "PLANT GROSS",
         "rawType": "object",
         "type": "unknown"
        },
        {
         "name": "ENG GROSS",
         "rawType": "object",
         "type": "unknown"
        },
        {
         "name": "STG",
         "rawType": "object",
         "type": "unknown"
        }
       ],
       "conversionMethod": "pd.DataFrame",
       "ref": "51754685-702f-4f80-bcc3-284a0998d50a",
       "rows": [
        [
         "0",
         "2024-03-01 00:00:00",
         "43.711999999999534",
         "42.944000000017695",
         "85.69599999999627",
         "85.68799999999464",
         "56.255999999993946",
         "0",
         "314.2960000000021",
         "314296.0000000021",
         "314296.0000000021",
         "0"
        ],
        [
         "1",
         "2024-03-02 00:00:00",
         "64.12800000002608",
         "27.551999999966938",
         "34.11199999996461",
         "29.4320000000007",
         "67.2960000000312",
         "0",
         "222.51999999998952",
         "222519.99999998952",
         "222519.99999998952",
         "0"
        ],
        [
         "2",
         "2024-03-03 00:00:00",
         "84.15999999997439",
         "50.240000000048894",
         "50.46400000003632",
         "82.68799999999464",
         "49.88799999997718",
         "0",
         "317.44000000003143",
         "317440.00000003143",
         "317440.00000003143",
         "0"
        ],
        [
         "3",
         "2024-03-04 00:00:00",
         "91.2960000000312",
         "60.73599999997532",
         "56.991999999969266",
         "85.6880000000092",
         "56.60800000000745",
         "0",
         "351.31999999999243",
         "351319.99999999243",
         "351319.99999999243",
         "0"
        ],
        [
         "4",
         "2024-03-05 00:00:00",
         "71.8399999999674",
         "69.5680000000284",
         "116.60800000000745",
         "114.7439999999915",
         "78.01600000000326",
         "18.89999999999418",
         "469.6759999999922",
         "469675.9999999922",
         "450775.999999998",
         "18899.99999999418"
        ]
       ],
       "shape": {
        "columns": 11,
        "rows": 5
       }
      },
      "text/html": [
       "<div>\n",
       "<style scoped>\n",
       "    .dataframe tbody tr th:only-of-type {\n",
       "        vertical-align: middle;\n",
       "    }\n",
       "\n",
       "    .dataframe tbody tr th {\n",
       "        vertical-align: top;\n",
       "    }\n",
       "\n",
       "    .dataframe thead th {\n",
       "        text-align: right;\n",
       "    }\n",
       "</style>\n",
       "<table border=\"1\" class=\"dataframe\">\n",
       "  <thead>\n",
       "    <tr style=\"text-align: right;\">\n",
       "      <th></th>\n",
       "      <th>DATE</th>\n",
       "      <th>DG SET .1</th>\n",
       "      <th>DG SET .2</th>\n",
       "      <th>DG SET .3</th>\n",
       "      <th>DG SET .4</th>\n",
       "      <th>DG SET .5</th>\n",
       "      <th>STG</th>\n",
       "      <th>DAILY TOTAL MWH</th>\n",
       "      <th>PLANT GROSS</th>\n",
       "      <th>ENG GROSS</th>\n",
       "      <th>STG</th>\n",
       "    </tr>\n",
       "  </thead>\n",
       "  <tbody>\n",
       "    <tr>\n",
       "      <th>0</th>\n",
       "      <td>2024-03-01 00:00:00</td>\n",
       "      <td>43.712</td>\n",
       "      <td>42.944</td>\n",
       "      <td>85.696</td>\n",
       "      <td>85.688</td>\n",
       "      <td>56.256</td>\n",
       "      <td>0</td>\n",
       "      <td>314.296</td>\n",
       "      <td>314296.0</td>\n",
       "      <td>314296.0</td>\n",
       "      <td>0</td>\n",
       "    </tr>\n",
       "    <tr>\n",
       "      <th>1</th>\n",
       "      <td>2024-03-02 00:00:00</td>\n",
       "      <td>64.128</td>\n",
       "      <td>27.552</td>\n",
       "      <td>34.112</td>\n",
       "      <td>29.432</td>\n",
       "      <td>67.296</td>\n",
       "      <td>0</td>\n",
       "      <td>222.52</td>\n",
       "      <td>222520.0</td>\n",
       "      <td>222520.0</td>\n",
       "      <td>0</td>\n",
       "    </tr>\n",
       "    <tr>\n",
       "      <th>2</th>\n",
       "      <td>2024-03-03 00:00:00</td>\n",
       "      <td>84.16</td>\n",
       "      <td>50.24</td>\n",
       "      <td>50.464</td>\n",
       "      <td>82.688</td>\n",
       "      <td>49.888</td>\n",
       "      <td>0</td>\n",
       "      <td>317.44</td>\n",
       "      <td>317440.0</td>\n",
       "      <td>317440.0</td>\n",
       "      <td>0</td>\n",
       "    </tr>\n",
       "    <tr>\n",
       "      <th>3</th>\n",
       "      <td>2024-03-04 00:00:00</td>\n",
       "      <td>91.296</td>\n",
       "      <td>60.736</td>\n",
       "      <td>56.992</td>\n",
       "      <td>85.688</td>\n",
       "      <td>56.608</td>\n",
       "      <td>0</td>\n",
       "      <td>351.32</td>\n",
       "      <td>351320.0</td>\n",
       "      <td>351320.0</td>\n",
       "      <td>0</td>\n",
       "    </tr>\n",
       "    <tr>\n",
       "      <th>4</th>\n",
       "      <td>2024-03-05 00:00:00</td>\n",
       "      <td>71.84</td>\n",
       "      <td>69.568</td>\n",
       "      <td>116.608</td>\n",
       "      <td>114.744</td>\n",
       "      <td>78.016</td>\n",
       "      <td>18.9</td>\n",
       "      <td>469.676</td>\n",
       "      <td>469676.0</td>\n",
       "      <td>450776.0</td>\n",
       "      <td>18900.0</td>\n",
       "    </tr>\n",
       "  </tbody>\n",
       "</table>\n",
       "</div>"
      ],
      "text/plain": [
       "                  DATE DG SET .1 DG SET .2 DG SET .3 DG SET .4 DG SET .5  \\\n",
       "0  2024-03-01 00:00:00    43.712    42.944    85.696    85.688    56.256   \n",
       "1  2024-03-02 00:00:00    64.128    27.552    34.112    29.432    67.296   \n",
       "2  2024-03-03 00:00:00     84.16     50.24    50.464    82.688    49.888   \n",
       "3  2024-03-04 00:00:00    91.296    60.736    56.992    85.688    56.608   \n",
       "4  2024-03-05 00:00:00     71.84    69.568   116.608   114.744    78.016   \n",
       "\n",
       "    STG DAILY TOTAL MWH PLANT GROSS ENG GROSS      STG  \n",
       "0     0         314.296    314296.0  314296.0        0  \n",
       "1     0          222.52    222520.0  222520.0        0  \n",
       "2     0          317.44    317440.0  317440.0        0  \n",
       "3     0          351.32    351320.0  351320.0        0  \n",
       "4  18.9         469.676    469676.0  450776.0  18900.0  "
      ]
     },
     "execution_count": 32,
     "metadata": {},
     "output_type": "execute_result"
    }
   ],
   "source": [
    "data_df.head()"
   ]
  },
  {
   "cell_type": "code",
   "execution_count": 33,
   "id": "adcb8116",
   "metadata": {},
   "outputs": [],
   "source": [
    "data_df = data_df[pd.to_datetime(data_df[\"DATE\"], errors='coerce').notna()]\n",
    "data_df[\"DATE\"] = pd.to_datetime(data_df[\"DATE\"])\n"
   ]
  },
  {
   "cell_type": "code",
   "execution_count": 35,
   "id": "42622721",
   "metadata": {},
   "outputs": [],
   "source": [
    "# Find the MWH value for the date\n",
    "daily_row = data_df[data_df[\"DATE\"] == target_date]\n",
    "mwh_value = daily_row[\"DAILY TOTAL MWH\"].values[0] if not daily_row.empty else None\n"
   ]
  },
  {
   "cell_type": "code",
   "execution_count": 38,
   "id": "e03b30c3",
   "metadata": {},
   "outputs": [
    {
     "name": "stdout",
     "output_type": "stream",
     "text": [
      "New sheet '11th March' has been created.\n",
      "Inserted 1461.2919999999722 into sheet '11th March' cell B8.\n"
     ]
    }
   ],
   "source": [
    "\n",
    "# === Write to Daily Report ===\n",
    "if mwh_value is not None:\n",
    "    report_file = \"Daily production report March 2025.xlsx\"\n",
    "    wb = load_workbook(report_file)\n",
    "    \n",
    "     # Check if a sheet with the given date_str exists\n",
    "    if date_str in wb.sheetnames:\n",
    "        # If the sheet exists, update the value in cell B8\n",
    "        ws = wb[date_str]\n",
    "        ws[\"B8\"] = mwh_value\n",
    "        wb.save(\"Daily production report March 2025 - updated.xlsx\")\n",
    "        print(f\"Inserted {mwh_value} into sheet '{date_str}' cell B8.\")\n",
    "    \n",
    "    # If the sheet doesn't exist, create a new sheet with the date_str name\n",
    "    else:\n",
    "        # Find an existing sheet to duplicate (use the first sheet here as an example)\n",
    "        sheet_to_duplicate = wb.worksheets[2]  # You can adjust this if you want a specific sheet\n",
    "        \n",
    "        # Create a new sheet by copying the content of the original sheet\n",
    "        new_sheet = wb.copy_worksheet(sheet_to_duplicate)\n",
    "        \n",
    "        # Rename the new sheet to the current date_str\n",
    "        new_sheet.title = date_str\n",
    "\n",
    "        for row in sheet_to_duplicate.iter_rows():\n",
    "            for cell in row:\n",
    "            # Skip MergedCells that are not the actual top-left anchor\n",
    "                if isinstance(cell, MergedCell):\n",
    "                    continue\n",
    "\n",
    "                new_cell = new_sheet.cell(row=cell.row, column=cell.column)\n",
    "                                        \n",
    "                # Copy styles\n",
    "                if cell.has_style:\n",
    "                    new_cell.font = copy(cell.font)\n",
    "                    new_cell.border = copy(cell.border)\n",
    "                    new_cell.fill = copy(cell.fill)\n",
    "                    new_cell.number_format = copy(cell.number_format)\n",
    "                    new_cell.protection = copy(cell.protection)\n",
    "                    new_cell.alignment = copy(cell.alignment)\n",
    "\n",
    "            \n",
    "                # Copy only formulas or static labels (no user-filled values)\n",
    "                if cell.data_type == 'f':\n",
    "                    new_cell.value = f\"={cell.value}\"\n",
    "                elif isinstance(cell.value, str) and cell.value.strip() != \"\":\n",
    "                    new_cell.value = cell.value  # Copy headers/static text\n",
    "                else:\n",
    "                    new_cell.value = None  # Clear user-entered numbers or blanks\n",
    "\n",
    "        # Copy merged cell ranges\n",
    "        for merged_range in sheet_to_duplicate.merged_cells.ranges:\n",
    "            new_sheet.merge_cells(str(merged_range))\n",
    "        # Copy column widths\n",
    "        for col in sheet_to_duplicate.column_dimensions:\n",
    "            new_sheet.column_dimensions[col].width = sheet_to_duplicate.column_dimensions[col].width\n",
    "\n",
    "        # Copy row heights\n",
    "        for row_dim in sheet_to_duplicate.row_dimensions:\n",
    "            new_sheet.row_dimensions[row_dim].height = sheet_to_duplicate.row_dimensions[row_dim].height\n",
    "\n",
    "\n",
    "        \n",
    "        \n",
    "        # Assign the new sheet to `ws` so we can insert value below\n",
    "        ws = new_sheet\n",
    "        print(f\"New sheet '{date_str}' has been created.\")\n",
    "\n",
    "    # Insert the value into B8, regardless of whether the sheet existed or was just created\n",
    "    ws[\"B8\"] = mwh_value\n",
    "    wb.save(\"Daily production report March 2025 - updated.xlsx\")\n",
    "    print(f\"Inserted {mwh_value} into sheet '{date_str}' cell B8.\")\n",
    "else:\n",
    "    print(\"No data found for that date.\")"
   ]
  },
  {
   "cell_type": "code",
   "execution_count": 37,
   "id": "c6c6ef4f",
   "metadata": {},
   "outputs": [
    {
     "name": "stdout",
     "output_type": "stream",
     "text": [
      "<DatetimeArray>\n",
      "['2024-03-01 00:00:00', '2024-03-02 00:00:00', '2024-03-03 00:00:00',\n",
      " '2024-03-04 00:00:00', '2024-03-05 00:00:00', '2024-03-06 00:00:00',\n",
      " '2024-03-07 00:00:00', '2024-03-08 00:00:00', '2024-03-09 00:00:00',\n",
      " '2024-03-10 00:00:00', '2024-03-11 00:00:00', '2024-03-12 00:00:00',\n",
      " '2024-03-13 00:00:00', '2024-03-14 00:00:00', '2024-03-15 00:00:00',\n",
      " '2024-03-16 00:00:00', '2024-03-17 00:00:00', '2024-03-18 00:00:00',\n",
      " '2024-03-19 00:00:00', '2024-03-20 00:00:00', '2024-03-21 00:00:00',\n",
      " '2024-03-22 00:00:00', '2024-03-23 00:00:00', '2024-03-24 00:00:00',\n",
      " '2024-03-25 00:00:00', '2024-03-26 00:00:00', '2024-03-27 00:00:00',\n",
      " '2024-03-28 00:00:00', '2024-03-29 00:00:00', '2024-03-30 00:00:00',\n",
      " '2024-03-31 00:00:00']\n",
      "Length: 31, dtype: datetime64[ns]\n"
     ]
    }
   ],
   "source": [
    "print(data_df[\"DATE\"].unique())"
   ]
  },
  {
   "cell_type": "code",
   "execution_count": null,
   "id": "f042f761",
   "metadata": {},
   "outputs": [],
   "source": []
  }
 ],
 "metadata": {
  "kernelspec": {
   "display_name": "Python 3",
   "language": "python",
   "name": "python3"
  },
  "language_info": {
   "codemirror_mode": {
    "name": "ipython",
    "version": 3
   },
   "file_extension": ".py",
   "mimetype": "text/x-python",
   "name": "python",
   "nbconvert_exporter": "python",
   "pygments_lexer": "ipython3",
   "version": "3.12.3"
  }
 },
 "nbformat": 4,
 "nbformat_minor": 5
}
